{
 "cells": [
  {
   "cell_type": "code",
   "execution_count": null,
   "id": "951ef47f-1ee2-41c0-8568-a40f7bd43df7",
   "metadata": {},
   "outputs": [],
   "source": [
    "# Constants\n",
    "TASK_ID = 500\n",
    "TASK_NAME = \"Task500_Epaule\""
   ]
  }
 ],
 "metadata": {
  "kernelspec": {
   "display_name": "pytorch1.9-cuda",
   "language": "python",
   "name": "pytorch1.9-cuda"
  },
  "language_info": {
   "codemirror_mode": {
    "name": "ipython",
    "version": 3
   },
   "file_extension": ".py",
   "mimetype": "text/x-python",
   "name": "python",
   "nbconvert_exporter": "python",
   "pygments_lexer": "ipython3",
   "version": "3.8.12"
  }
 },
 "nbformat": 4,
 "nbformat_minor": 5
}
